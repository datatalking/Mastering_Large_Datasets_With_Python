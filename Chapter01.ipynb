{
 "cells": [
  {
   "cell_type": "code",
   "execution_count": null,
   "metadata": {
    "collapsed": true
   },
   "outputs": [],
   "source": [
    "print(\"Mastering Large Datasets with Python is about teaching a scable style of programming\")\n",
    "\n",
    "print(\"In most books they focus in one tiny issue, this book zooms out almost all the way out\")\n",
    "\n",
    "print(\"This book teaches Functional or what you could call Macroprogramming, a 200,000 ft view\")\n",
    "\n",
    "print(\"This book covers library tools like 'toolz', 'pathos', and 'mrjob'\")\n",
    "\n",
    "print(\"The author coveres many technologies 'Hadoop', 'Spark', 'AWS' and notably we don't cover Azure\")"
   ]
  }
 ],
 "metadata": {
  "kernelspec": {
   "display_name": "Python 3",
   "language": "python",
   "name": "python3"
  },
  "language_info": {
   "codemirror_mode": {
    "name": "ipython",
    "version": 2
   },
   "file_extension": ".py",
   "mimetype": "text/x-python",
   "name": "python",
   "nbconvert_exporter": "python",
   "pygments_lexer": "ipython2",
   "version": "2.7.6"
  }
 },
 "nbformat": 4,
 "nbformat_minor": 0
}