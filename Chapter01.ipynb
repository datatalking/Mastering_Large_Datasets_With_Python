{
 "cells": [
  {
   "cell_type": "code",
   "execution_count": 1,
   "metadata": {
    "collapsed": true,
    "pycharm": {
     "name": "#%%\n"
    }
   },
   "outputs": [
    {
     "ename": "NameError",
     "evalue": "name 'area_code' is not defined",
     "output_type": "error",
     "traceback": [
      "\u001B[0;31m---------------------------------------------------------------------------\u001B[0m",
      "\u001B[0;31mNameError\u001B[0m                                 Traceback (most recent call last)",
      "\u001B[0;32m/var/folders/m3/jsfh6v792_bg33tq9dyqyv200000gn/T/ipykernel_14137/3882197969.py\u001B[0m in \u001B[0;36m<module>\u001B[0;34m\u001B[0m\n\u001B[1;32m      7\u001B[0m \u001B[0;32mfor\u001B[0m \u001B[0mnumber\u001B[0m \u001B[0;32min\u001B[0m \u001B[0mphone_numbers\u001B[0m\u001B[0;34m:\u001B[0m \u001B[0mdigits\u001B[0m \u001B[0;34m=\u001B[0m \u001B[0mR\u001B[0m\u001B[0;34m.\u001B[0m\u001B[0mfindall\u001B[0m\u001B[0;34m(\u001B[0m\u001B[0mnumber\u001B[0m\u001B[0;34m)\u001B[0m\u001B[0;34m\u001B[0m\u001B[0;34m\u001B[0m\u001B[0m\n\u001B[1;32m      8\u001B[0m \u001B[0;34m\u001B[0m\u001B[0m\n\u001B[0;32m----> 9\u001B[0;31m \u001B[0mpretty_format\u001B[0m \u001B[0;34m=\u001B[0m \u001B[0;34m\"({}) {}-{}\"\u001B[0m\u001B[0;34m.\u001B[0m\u001B[0mformat\u001B[0m\u001B[0;34m(\u001B[0m\u001B[0marea_code\u001B[0m\u001B[0;34m,\u001B[0m \u001B[0mfirst_3\u001B[0m\u001B[0;34m,\u001B[0m \u001B[0mlast_4\u001B[0m\u001B[0;34m)\u001B[0m\u001B[0;34m\u001B[0m\u001B[0;34m\u001B[0m\u001B[0m\n\u001B[0m\u001B[1;32m     10\u001B[0m \u001B[0mnew_numbers\u001B[0m\u001B[0;34m.\u001B[0m\u001B[0mappend\u001B[0m\u001B[0;34m(\u001B[0m\u001B[0mcorrect_format\u001B[0m\u001B[0;34m)\u001B[0m\u001B[0;34m\u001B[0m\u001B[0;34m\u001B[0m\u001B[0m\n",
      "\u001B[0;31mNameError\u001B[0m: name 'area_code' is not defined"
     ]
    }
   ],
   "source": [
    "# SOURCE\n",
    "import re\n",
    "phone_numbers = [\"(123) 456-7890\", \"1234567890\",\n",
    "                 \"123.456.7890\", \"+1 123 456-7890\"\n",
    "]\n",
    "new_numbers = []\n",
    "R = re.compile(r\"\\d\")\n",
    "for number in phone_numbers:\n",
    "    digits = R.findall(number)\n",
    "\n",
    "    area_code = \"\".join(digits[-10:-7])\n",
    "    first_3 = \"\".join(digits[-7:-4])\n",
    "    last_4 = \"\".join(digits[-4:len(digits)])\n",
    "\n",
    "    pretty_format = \"({}) {}-{}\".format(area_code, first_3, last_4)\n",
    "    new_numbers.append(correct_format)"
   ]
  }
 ],
 "metadata": {
  "kernelspec": {
   "display_name": "Python 3",
   "language": "python",
   "name": "python3"
  },
  "language_info": {
   "codemirror_mode": {
    "name": "ipython",
    "version": 2
   },
   "file_extension": ".py",
   "mimetype": "text/x-python",
   "name": "python",
   "nbconvert_exporter": "python",
   "pygments_lexer": "ipython2",
   "version": "2.7.6"
  }
 },
 "nbformat": 4,
 "nbformat_minor": 0
}